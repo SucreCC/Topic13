{
 "cells": [
  {
   "cell_type": "markdown",
   "id": "b560d990",
   "metadata": {},
   "source": [
    "# 1 Modelling biological neural networks"
   ]
  },
  {
   "cell_type": "markdown",
   "id": "f1c06234",
   "metadata": {},
   "source": [
    "## 1 Introduction for modeling biological neural networks\n",
    "\n",
    "Here are some papers that introduce and discuss modeling biological neural networks:"
   ]
  },
  {
   "cell_type": "markdown",
   "id": "57f36d13",
   "metadata": {},
   "source": [
    "1. **Biological constraints on neural network models of cognitive function** by F Pulvermüller et al., 2021. This paper explores how neural networks for modeling cognition incorporate features that make them similar to real neurobiological networks, discussing the implications for cognitive science and neuroscience【0†source】.\n",
    "\n",
    "2. **Neural population geometry: An approach for understanding biological and artificial neural networks** by SY Chung and LF Abbott, 2021. This study introduces the concept of neural population geometry, which provides insights into the structure and function of both biological and artificial neural networks【0†source】.\n",
    "\n",
    "3. **Artificial neural networks for neuroscientists: A primer** by GR Yang and XJ Wang, 2020. This primer is designed for neuroscientists interested in artificial neural networks, offering a way to generate candidate models for brain functions and complementing nonhuman animal models for studying neural systems【0†source】.\n",
    "\n",
    "4. **Graph neural networks and their current applications in bioinformatics** by XM Zhang et al., 2021. The paper introduces graph neural networks (GNNs) and their applications in bioinformatics, emphasizing the potential for modeling biological networks【0†source】.\n",
    "\n",
    "5. **Review on chaotic dynamics of memristive neuron and neural network** by H Lin et al., 2021. This review discusses memristive neuron and neural network models with different biological functions, introducing various models and their implications for understanding neural dynamics【0†source】.\n",
    "\n",
    "6. **Graph neural networks in TensorFlow and Keras with Spektral** by D Grattarola and C Alippi, 2021. This paper discusses the implementation of graph neural networks using TensorFlow and Keras, focusing on models that could be relevant for biological neural network simulation【0†source】.\n",
    "\n",
    "7. **Spiking neural networks and online learning: An overview and perspectives** by JL Lobo et al., 2020. This overview presents spiking neural networks (SNNs) as the new generation of neural networks that offer a more biologically realistic approach to modeling neural dynamics and learning【0†source】.\n",
    "\n",
    "8. **Introduction to graph neural networks** by Z Liu and J Zhou, 2022. This book provides an introduction to the basic concepts, models, and applications of graph neural networks, drawing parallels to biological neural networks and their learning processes【0†source】.\n",
    "\n",
    "9. **Updating the neural network sediment load models using different sensitivity analysis methods: a regional application** by R Asheghi et al., 2020. Although primarily focused on sediment load models, this paper discusses the application of neural network models in environmental science, showcasing the versatility of neural network approaches【0†source】.\n",
    "\n",
    "10. **Convolutional neural networks as a model of the visual system: Past, present, and future** by GW Lindsay, 2021. This paper discusses the use of convolutional neural networks (CNNs) as models for understanding biological vision, highlighting their past applications and future potential【0†source】.\n",
    "\n",
    "These papers provide a comprehensive introduction to the field of modeling biological neural networks, covering a range of approaches, methodologies, and applications across different disciplines."
   ]
  },
  {
   "cell_type": "markdown",
   "id": "70f2fd2e",
   "metadata": {},
   "source": [
    "## 2 modeling biological neural networks in computer vision\n",
    "\n",
    "Here are some papers focusing on introducing and exploring the modeling of biological neural networks in the context of vision:"
   ]
  },
  {
   "cell_type": "markdown",
   "id": "a0dc0a2b",
   "metadata": {},
   "source": [
    "1. **Convolutional neural networks as a model of the visual system: Past, present, and future** by GW Lindsay, 2021. This paper discusses the evolution and future directions of using convolutional neural networks (CNNs) as models for biological vision, emphasizing the insights these models provide into the functioning of the visual system【0†source】.\n",
    "\n",
    "1. **Convolutional neural network: a review of models, methodologies and applications to object detection** by A Dhillon, GK Verma, 2020. This paper provides a comprehensive review of convolutional neural networks (CNNs), covering models, methodologies, and their applications in object detection across various fields including robotics, medicine, and biology【0†source】.\n",
    "\n",
    "3. **Deep problems with neural network models of human vision** by JS Bowers et al., 2023. The paper argues for the development of biologically plausible models of human vision, focusing on object recognition and the limitations of current deep neural network models【0†source】.\n",
    "\n",
    "\n",
    "3. **Neural population geometry: An approach for understanding biological and artificial neural networks** by SY Chung and LF Abbott, 2021. This study introduces neural population geometry as a methodology for bridging the gap between structure and function in both biological and artificial neural networks, with implications for understanding the visual system【0†source】.\n",
    "\n",
    "4. **Recurrent neural networks can explain flexible trading of speed and accuracy in biological vision** by CJ Spoerer et al., 2020. This paper demonstrates how recurrent convolutional neural network models can outperform feedforward models in tasks requiring a trade-off between speed and accuracy, suggesting a closer alignment with biological vision processes【0†source】.\n",
    "\n",
    "5. **Artificial neural networks for neuroscientists: A primer** by GR Yang and XJ Wang, 2020. Aimed at neuroscientists, this primer on artificial neural networks discusses their potential as models for biological neural networks, including applications to sensory and visual systems【0†source】.\n",
    "\n",
    "6. **Direct fit to nature: An evolutionary perspective on biological and artificial neural networks** by U Hasson et al., 2020. This paper explores the evolutionary aspects of neural network models, arguing for a broader interpretation of how these models fit into our understanding of biological vision【0†source】.\n",
    "\n",
    "7. **Recent advances in pulse-coupled neural networks with applications in image processing** by H Liu et al., 2022. The paper discusses pulse-coupled neural networks (PCNNs) and their applications in image processing, highlighting their relevance to modeling the biological cortex and visual system【0†source】.\n",
    "\n",
    "8. **LISNN: Improving spiking neural networks with lateral interactions for robust object recognition** by X Cheng et al., 2020. This study introduces LISNN, a model that enhances the noise robustness of spiking neural networks for visual object recognition tasks, drawing inspiration from biological vision mechanisms【0†source】.\n",
    "\n",
    "9. **Hyperbolic deep neural networks: A survey** by W Peng et al., 2021. While not focused exclusively on vision, this survey touches on the potential of hyperbolic deep neural networks for computer vision tasks and their relevance to modeling biological data【0†source】.\n",
    "\n",
    "10. **Graph neural networks and their current applications in bioinformatics** by XM Zhang et al., 2021. Although primarily focused on bioinformatics, this paper mentions the integration of multi-view information, which can be pertinent to understanding complex biological systems, including the visual system【0†source】.\n",
    "\n",
    "These papers cover a range of approaches to modeling biological neural networks in vision, from convolutional and recurrent neural networks to spiking and hyperbolic neural networks, providing a broad perspective on the field's current state and future directions."
   ]
  },
  {
   "cell_type": "markdown",
   "id": "3dcef1eb",
   "metadata": {},
   "source": [
    "## 3 modeling biological neural networks may contain code part"
   ]
  },
  {
   "cell_type": "markdown",
   "id": "077c8492",
   "metadata": {},
   "source": [
    "\n",
    "1. **Convolutional Neural Network: A Review of Models, Methodologies, and Applications to Object Detection** - This review by A Dhillon and GK Verma (2020) in \"Progress in Artificial Intelligence\" discusses convolutional neural networks (CNNs), their models, methodologies, and applications across various fields including object detection. While it provides a comprehensive overview, the direct mention of code might not be explicit in the abstract【0†source】.\n",
    "\n",
    "2. **Convolutional Neural Networks as a Model of the Visual System: Past, Present, and Future** - GW Lindsay (2021) elaborates on CNNs in vision research beyond basic object recognition in the \"Journal of Cognitive Neuroscience.\" This paper might discuss the implementation of CNNs inspired by biological vision but does not explicitly mention code in the abstract【1†source】.\n",
    "\n",
    "3. **Capturing the Objects of Vision with Neural Networks** - This article by B Peters and N Kriegeskorte (2021) in \"Nature Human Behaviour\" reviews work in deep neural network models of visual object recognition, potentially including aspects of implementation and code for modeling objects in vision【2†source】.\n",
    "\n",
    "4. **Keras R-CNN: Library for Cell Detection in Biological Images Using Deep Neural Networks** - J Hung et al. (2020) present a library for cell detection in biological images with deep neural networks, published in \"BMC Bioinformatics.\" This paper specifically mentions the ease of object detection with just ~20 lines of code, indicating the availability of code for implementing the model【3†source】.\n",
    "\n",
    "5. **LISNN: Improving Spiking Neural Networks with Lateral Interactions for Robust Object Recognition** - This paper by X Cheng et al. (2020) presented at IJCAI discusses enhancing spiking neural networks (SNNs) for object recognition tasks, suggesting a biologically plausible mechanism. The mention of code might be implicit in the context of discussing model implementation【6†source】.\n",
    "\n",
    "6. **Recurrent Neural Networks Can Explain Flexible Trading of Speed and Accuracy in Biological Vision** - CJ Spoerer et al. (2020) in \"PLoS Computational Biology\" explore how recurrent neural network models outperform others in tasks requiring a trade-off between speed and accuracy, relevant to object recognition, potentially including details on code for models【7†source】.\n",
    "\n",
    "7. **Predify: Augmenting Deep Neural Networks with Brain-Inspired Predictive Coding Dynamics** - This paper by B Choksi et al. (2021) in \"Advances in Neural Information Processing Systems\" explores the use of predictive coding dynamics in deep neural networks, drawing inspiration from biological visual systems, which might include implementation details or code【8†source】.\n"
   ]
  }
 ],
 "metadata": {
  "kernelspec": {
   "display_name": "Python 3 (ipykernel)",
   "language": "python",
   "name": "python3"
  },
  "language_info": {
   "codemirror_mode": {
    "name": "ipython",
    "version": 3
   },
   "file_extension": ".py",
   "mimetype": "text/x-python",
   "name": "python",
   "nbconvert_exporter": "python",
   "pygments_lexer": "ipython3",
   "version": "3.11.5"
  }
 },
 "nbformat": 4,
 "nbformat_minor": 5
}
